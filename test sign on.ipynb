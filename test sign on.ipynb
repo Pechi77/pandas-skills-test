{
 "cells": [
  {
   "cell_type": "markdown",
   "metadata": {},
   "source": [
    "<div id='g1'></div>"
   ]
  },
  {
   "cell_type": "code",
   "execution_count": 3,
   "metadata": {
    "collapsed": true
   },
   "outputs": [],
   "source": [
    "from prob_util import create_google_button, get_user_info"
   ]
  },
  {
   "cell_type": "code",
   "execution_count": 4,
   "metadata": {
    "collapsed": false
   },
   "outputs": [
    {
     "data": {
      "application/javascript": [
       "console.log('it has begun')\n",
       "    require.config({\n",
       "        \"shim\": {\n",
       "            \"gapi\": {\n",
       "                \"exports\": \"gapi\"\n",
       "            }\n",
       "        },\n",
       "        \"paths\": {\n",
       "            \"gapi\": \"https://apis.google.com/js/platform\"\n",
       "        }\n",
       "    })\n",
       "\n",
       "    require(['gapi'], function (gapi) {\n",
       "    gapi.load('auth2', function () {\n",
       "      gapi.auth2.init({\n",
       "        client_id: '182541249753-uc2ci1ts4lp480bcod4en0j9f0oo0iuh' \n",
       "      });\n",
       "      gapi.signin2.render('g1')\n",
       "    });\n",
       "    });"
      ],
      "text/plain": [
       "<IPython.core.display.Javascript object>"
      ]
     },
     "metadata": {},
     "output_type": "display_data"
    }
   ],
   "source": [
    "create_google_button()"
   ]
  },
  {
   "cell_type": "code",
   "execution_count": 5,
   "metadata": {
    "collapsed": false
   },
   "outputs": [
    {
     "data": {
      "application/javascript": [
       "\n",
       "    var auth = gapi.auth2.getAuthInstance();\n",
       "    var user = auth.currentUser.get();\n",
       "    var info = user.getBasicProfile();\n",
       "    console.log(info);\n",
       "    element.append(JSON.stringify(info));\n",
       "    "
      ],
      "text/plain": [
       "<IPython.core.display.Javascript object>"
      ]
     },
     "metadata": {},
     "output_type": "display_data"
    }
   ],
   "source": [
    "get_user_info()"
   ]
  },
  {
   "cell_type": "code",
   "execution_count": null,
   "metadata": {
    "collapsed": true
   },
   "outputs": [],
   "source": []
  }
 ],
 "metadata": {
  "kernelspec": {
   "display_name": "Python [default]",
   "language": "python",
   "name": "python3"
  },
  "language_info": {
   "codemirror_mode": {
    "name": "ipython",
    "version": 3
   },
   "file_extension": ".py",
   "mimetype": "text/x-python",
   "name": "python",
   "nbconvert_exporter": "python",
   "pygments_lexer": "ipython3",
   "version": "3.5.2"
  }
 },
 "nbformat": 4,
 "nbformat_minor": 1
}
